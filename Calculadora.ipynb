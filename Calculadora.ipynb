{
  "nbformat": 4,
  "nbformat_minor": 0,
  "metadata": {
    "colab": {
      "provenance": []
    },
    "kernelspec": {
      "name": "python3",
      "display_name": "Python 3"
    },
    "language_info": {
      "name": "python"
    }
  },
  "cells": [
    {
      "cell_type": "code",
      "execution_count": null,
      "metadata": {
        "id": "8TZQdxF52O9q"
      },
      "outputs": [],
      "source": []
    },
    {
      "cell_type": "markdown",
      "source": [
        "##Primeiro projeto\n",
        "\n",
        "Passo a passo:\n",
        "\n",
        "* Utilize o comando 'input' para receber ao menos 2 números de entrada do usuário;\n",
        "\n",
        "* Converta os valores recebidos pelo usuário para número inteiro (int) ou ponto flutuante (float);\n",
        "\n",
        "* Implemente ao menos 4 operações matemáticas em seu código;\n",
        "\n",
        "* Adicione um laço de repetição ou uma condicional. Por exemplo: você pode permitir que o usuário escolha qual operação realizar ou criar um loop que permita ao usuário realizar várias operações consecutivas;\n",
        "\n",
        "* Utilize o comando 'print' para exibir o resultado da operação matemática."
      ],
      "metadata": {
        "id": "9AqWLi9T2Wmv"
      }
    },
    {
      "cell_type": "markdown",
      "source": [
        "##Promoção em ótica: a sua idade é o seu desconto"
      ],
      "metadata": {
        "id": "r02cdRBw53kj"
      }
    },
    {
      "cell_type": "code",
      "source": [
        "nome = input(\"Seja bem-vindo! Qual o seu nome? \")\n",
        "print (nome)"
      ],
      "metadata": {
        "colab": {
          "base_uri": "https://localhost:8080/"
        },
        "id": "K10URPTX6Ble",
        "outputId": "f0f0c3f1-4d4d-4182-a688-6e428260ee5f"
      },
      "execution_count": 63,
      "outputs": [
        {
          "output_type": "stream",
          "name": "stdout",
          "text": [
            "Seja bem-vindo! Qual o seu nome? João\n",
            "João\n"
          ]
        }
      ]
    },
    {
      "cell_type": "code",
      "source": [
        "idade = input(\"Digite a idade do usuário \") #Aguarda o usuário digitar algo\n",
        "print (idade)"
      ],
      "metadata": {
        "colab": {
          "base_uri": "https://localhost:8080/"
        },
        "id": "zyePPn5H2w84",
        "outputId": "ed16e456-dcf1-4900-fdfd-f5df8e331b83"
      },
      "execution_count": 64,
      "outputs": [
        {
          "output_type": "stream",
          "name": "stdout",
          "text": [
            "Digite a idade do usuário 98\n",
            "98\n"
          ]
        }
      ]
    },
    {
      "cell_type": "code",
      "source": [
        "preço = input (\"Digite o preço original do produto \")\n",
        "print (preço)"
      ],
      "metadata": {
        "colab": {
          "base_uri": "https://localhost:8080/"
        },
        "id": "2O7YOl232zIl",
        "outputId": "c0598543-a811-4bc6-c3e0-66880aa1fd69"
      },
      "execution_count": 65,
      "outputs": [
        {
          "output_type": "stream",
          "name": "stdout",
          "text": [
            "Digite o preço original do produto 6900,55\n",
            "6900,55\n"
          ]
        }
      ]
    },
    {
      "cell_type": "code",
      "source": [
        "preço = preço.replace(\",\", \".\") #trocar a vírgula por ponto decimal\n",
        "valor_convet = float(preço)\n",
        "print (valor_convet)"
      ],
      "metadata": {
        "colab": {
          "base_uri": "https://localhost:8080/"
        },
        "id": "bL5PTDnf4Oz2",
        "outputId": "d5c2b6eb-c58b-4ed3-a43b-de9d25f9257d"
      },
      "execution_count": 67,
      "outputs": [
        {
          "output_type": "stream",
          "name": "stdout",
          "text": [
            "6900.55\n"
          ]
        }
      ]
    },
    {
      "cell_type": "code",
      "source": [
        "#Converter preço e idade para números\n",
        "preço = float(preço)\n",
        "idade = int(idade)\n",
        "print (preço, idade)"
      ],
      "metadata": {
        "colab": {
          "base_uri": "https://localhost:8080/"
        },
        "id": "Mtn1CJSN4bBO",
        "outputId": "2683fb06-acfd-4197-f90d-8aa793479844"
      },
      "execution_count": 68,
      "outputs": [
        {
          "output_type": "stream",
          "name": "stdout",
          "text": [
            "6900.55 98\n"
          ]
        }
      ]
    },
    {
      "cell_type": "code",
      "source": [
        "print (\"Boa,\", nome +\"!\", \"Seu desconto será de\", idade, \"%\")"
      ],
      "metadata": {
        "colab": {
          "base_uri": "https://localhost:8080/"
        },
        "id": "FYqJ2ltt6QaJ",
        "outputId": "974339f8-0577-4cc3-ba68-17ddc59361fd"
      },
      "execution_count": 69,
      "outputs": [
        {
          "output_type": "stream",
          "name": "stdout",
          "text": [
            "Boa, João! Seu desconto será de 98 %\n"
          ]
        }
      ]
    },
    {
      "cell_type": "code",
      "source": [
        "desconto = float(preço) * idade// 100\n",
        "print (\"O valor do desconto é\", desconto)"
      ],
      "metadata": {
        "colab": {
          "base_uri": "https://localhost:8080/"
        },
        "id": "HMBCFxjO69nJ",
        "outputId": "301ff050-eed6-4846-cfe0-c1169626ca7c"
      },
      "execution_count": 70,
      "outputs": [
        {
          "output_type": "stream",
          "name": "stdout",
          "text": [
            "O valor do desconto é 6762.0\n"
          ]
        }
      ]
    },
    {
      "cell_type": "code",
      "source": [
        "#Converter para um número inteiro para mostrar o valor final\n",
        "valor_convet = int(valor_convet)"
      ],
      "metadata": {
        "id": "ax-Dw8rx-raZ"
      },
      "execution_count": 74,
      "outputs": []
    },
    {
      "cell_type": "code",
      "source": [
        "print (nome+\",\", \"o valor final do produto com desconto é\", valor_convet - desconto)"
      ],
      "metadata": {
        "colab": {
          "base_uri": "https://localhost:8080/"
        },
        "id": "v32ete9996pk",
        "outputId": "55dc5e09-4bbf-4168-e119-0a709e2a5bcd"
      },
      "execution_count": 75,
      "outputs": [
        {
          "output_type": "stream",
          "name": "stdout",
          "text": [
            "João, o valor final do produto com desconto é 138.0\n"
          ]
        }
      ]
    },
    {
      "cell_type": "code",
      "source": [
        "from re import A\n",
        "nom = input(\"Qual será a forma de pagamento? \")\n",
        "\n",
        "lista = [\"crédito\",\"débito\",\"pix\"]\n",
        "\n",
        "if nom in lista:\n",
        "  print(\"Legal, vamos enviar seu link para finalização da compra\")\n",
        "else:\n",
        "  print(\"Entendi! Compareça à nossa loja para finalização da compra\")\n",
        "\n"
      ],
      "metadata": {
        "colab": {
          "base_uri": "https://localhost:8080/"
        },
        "id": "RHvTfqtc--1h",
        "outputId": "8731415f-c7ce-47d8-eb83-7d9bff490358"
      },
      "execution_count": 89,
      "outputs": [
        {
          "output_type": "stream",
          "name": "stdout",
          "text": [
            "Qual será a forma de pagamento? pix\n",
            "Legal, vamos enviar seu link para finalização da compra\n"
          ]
        }
      ]
    }
  ]
}